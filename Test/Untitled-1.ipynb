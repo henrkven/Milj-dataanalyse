{
 "cells": [
  {
   "cell_type": "code",
   "execution_count": null,
   "metadata": {},
   "outputs": [
    {
     "name": "stdout",
     "output_type": "stream",
     "text": [
      "Miljøet funker\n",
      "skal tro om jeg får det til\n",
      "sjekker også idag om den funker\n"
     ]
    }
   ],
   "source": [
    "print (\"Miljøet funker\")\n",
    "print( \"skal tro om jeg får det til\")\n",
    "print(\"sjekker også idag om den funker\")\n",
    "print(\"Hei og hå\")"
   ]
  }
 ],
 "metadata": {
  "kernelspec": {
   "display_name": "Python 3",
   "language": "python",
   "name": "python3"
  },
  "language_info": {
   "codemirror_mode": {
    "name": "ipython",
    "version": 3
   },
   "file_extension": ".py",
   "mimetype": "text/x-python",
   "name": "python",
   "nbconvert_exporter": "python",
   "pygments_lexer": "ipython3",
   "version": "3.11.4"
  }
 },
 "nbformat": 4,
 "nbformat_minor": 2
}
