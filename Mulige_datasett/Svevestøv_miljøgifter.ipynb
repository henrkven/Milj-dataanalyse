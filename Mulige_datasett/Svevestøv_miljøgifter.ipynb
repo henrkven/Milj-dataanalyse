{
 "cells": [
  {
   "cell_type": "code",
   "execution_count": 3,
   "metadata": {},
   "outputs": [
    {
     "name": "stdout",
     "output_type": "stream",
     "text": [
      "  09290: Svevestøv, organiske miljøgifter fra norsk økonomisk aktivitet, etter statistikkvariabel, næring, komponent og år  \\\n",
      "0                                                NaN                                                                         \n",
      "1                                                NaN                                                                         \n",
      "2  Utslipp til luft (dioksin i mg, PAH i kg og sv...                                                                         \n",
      "3                                                NaN                                                                         \n",
      "4                                                NaN                                                                         \n",
      "\n",
      "                       Unnamed: 1         Unnamed: 2 Unnamed: 3 Unnamed: 4  \\\n",
      "0                             NaN                NaN        NaN        NaN   \n",
      "1                             NaN                NaN       2000       2001   \n",
      "2  Alle næringer og husholdninger    Svevestøv - TSP     112672     115234   \n",
      "3                             NaN   Svevestøv - PM10      82858      85808   \n",
      "4                             NaN  Svevestøv - PM2,5      61642      64453   \n",
      "\n",
      "  Unnamed: 5 Unnamed: 6 Unnamed: 7 Unnamed: 8 Unnamed: 9  ... Unnamed: 17  \\\n",
      "0        NaN        NaN        NaN        NaN        NaN  ...         NaN   \n",
      "1       2002       2003       2004       2005       2006  ...        2014   \n",
      "2     111839     104505     105424     106044     113390  ...       97609   \n",
      "3      82470      75448      76199      75419      82389  ...       64359   \n",
      "4      61442      55100      56124      54870      61225  ...       43730   \n",
      "\n",
      "  Unnamed: 18 Unnamed: 19 Unnamed: 20 Unnamed: 21 Unnamed: 22 Unnamed: 23  \\\n",
      "0         NaN         NaN         NaN         NaN         NaN         NaN   \n",
      "1        2015        2016        2017        2018        2019        2020   \n",
      "2      109440       92911       97360      101998      101246       97268   \n",
      "3       75987       60771       64758       69205       68546       66363   \n",
      "4       54594       41483       45256       49028       48520       47359   \n",
      "\n",
      "  Unnamed: 24 Unnamed: 25 Unnamed: 26  \n",
      "0         NaN         NaN         NaN  \n",
      "1        2021        2022        2023  \n",
      "2       94770      101346       97746  \n",
      "3       64032       69839       67675  \n",
      "4       45305       50504       49070  \n",
      "\n",
      "[5 rows x 27 columns]\n"
     ]
    }
   ],
   "source": [
    "import pandas as pd \n",
    "\n",
    "\n",
    "file = \"Svevestøv_miljøgifter.xlsx\"\n",
    "\n",
    "df = pd.read_excel(file)\n",
    "\n",
    "csv_fil = \"Svevestøv_miljøgifter.csv\"\n",
    "df.to_csv(csv_fil, index=False, encoding=\"utf-8\")  \n",
    "\n",
    "print(df.head())\n"
   ]
  }
 ],
 "metadata": {
  "kernelspec": {
   "display_name": ".venv",
   "language": "python",
   "name": "python3"
  },
  "language_info": {
   "codemirror_mode": {
    "name": "ipython",
    "version": 3
   },
   "file_extension": ".py",
   "mimetype": "text/x-python",
   "name": "python",
   "nbconvert_exporter": "python",
   "pygments_lexer": "ipython3",
   "version": "3.12.5"
  }
 },
 "nbformat": 4,
 "nbformat_minor": 2
}
