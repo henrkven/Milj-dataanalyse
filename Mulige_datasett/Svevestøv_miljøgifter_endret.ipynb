{
 "cells": [
  {
   "cell_type": "code",
   "execution_count": 5,
   "metadata": {},
   "outputs": [
    {
     "name": "stdout",
     "output_type": "stream",
     "text": [
      "  09290: Svevestøv, organiske miljøgifter fra norsk økonomisk aktivitet, etter statistikkvariabel, næring, komponent og år  \\\n",
      "0                                                  0                                                                         \n",
      "1                                                  0                                                                         \n",
      "2  Utslipp til luft (dioksin i mg, PAH i kg og sv...                                                                         \n",
      "3                                                  0                                                                         \n",
      "4                                                  0                                                                         \n",
      "\n",
      "                       Unnamed: 1         Unnamed: 2 Unnamed: 3 Unnamed: 4  \\\n",
      "0                               0                  0          0          0   \n",
      "1                               0                  0       2000       2001   \n",
      "2  Alle næringer og husholdninger    Svevestøv - TSP     112672     115234   \n",
      "3                               0   Svevestøv - PM10      82858      85808   \n",
      "4                               0  Svevestøv - PM2,5      61642      64453   \n",
      "\n",
      "  Unnamed: 5 Unnamed: 6 Unnamed: 7 Unnamed: 8 Unnamed: 9  ... Unnamed: 17  \\\n",
      "0          0          0          0          0          0  ...           0   \n",
      "1       2002       2003       2004       2005       2006  ...        2014   \n",
      "2     111839     104505     105424     106044     113390  ...       97609   \n",
      "3      82470      75448      76199      75419      82389  ...       64359   \n",
      "4      61442      55100      56124      54870      61225  ...       43730   \n",
      "\n",
      "  Unnamed: 18 Unnamed: 19 Unnamed: 20 Unnamed: 21 Unnamed: 22 Unnamed: 23  \\\n",
      "0           0           0           0           0           0           0   \n",
      "1        2015        2016        2017        2018        2019        2020   \n",
      "2      109440       92911       97360      101998      101246       97268   \n",
      "3       75987       60771       64758       69205       68546       66363   \n",
      "4       54594       41483       45256       49028       48520       47359   \n",
      "\n",
      "  Unnamed: 24 Unnamed: 25 Unnamed: 26  \n",
      "0           0           0           0  \n",
      "1        2021        2022        2023  \n",
      "2       94770      101346       97746  \n",
      "3       64032       69839       67675  \n",
      "4       45305       50504       49070  \n",
      "\n",
      "[5 rows x 27 columns]\n"
     ]
    }
   ],
   "source": [
    "import pandas as pd \n",
    "\n",
    "file = \"Svevestøv_miljøgifter.csv\"\n",
    "\n",
    "df = pd.read_csv(file, na_values=[\"\", \"NA\", \"null\"])  # Angi flere \"NaN\"-verdier om nødvendig\n",
    "df.fillna(0, inplace=True)  # Erstatt NaN med en verdi\n",
    "\n",
    "print(df.head())"
   ]
  }
 ],
 "metadata": {
  "kernelspec": {
   "display_name": ".venv",
   "language": "python",
   "name": "python3"
  },
  "language_info": {
   "codemirror_mode": {
    "name": "ipython",
    "version": 3
   },
   "file_extension": ".py",
   "mimetype": "text/x-python",
   "name": "python",
   "nbconvert_exporter": "python",
   "pygments_lexer": "ipython3",
   "version": "3.12.5"
  }
 },
 "nbformat": 4,
 "nbformat_minor": 2
}
